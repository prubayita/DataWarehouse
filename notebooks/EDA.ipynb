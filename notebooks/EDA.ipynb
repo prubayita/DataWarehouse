{
 "cells": [
  {
   "cell_type": "code",
   "execution_count": 20,
   "id": "5d560815",
   "metadata": {},
   "outputs": [],
   "source": [
    "import pandas as pd\n",
    "import seaborn as sns\n",
    "import matplotlib.pyplot as plt\n",
    "import matplotlib"
   ]
  },
  {
   "cell_type": "code",
   "execution_count": 33,
   "id": "2adb8a31",
   "metadata": {},
   "outputs": [
    {
     "name": "stderr",
     "output_type": "stream",
     "text": [
      "/tmp/ipykernel_8882/4164706048.py:1: ParserWarning: Falling back to the 'python' engine because the 'c' engine does not support regex separators (separators > 1 char and different from '\\s+' are interpreted as regex); you can avoid this warning by specifying engine='python'.\n",
      "  datas=pd.read_csv(\"dataset.csv\", sep=\"[,;:]\", index_col=False)\n",
      "/tmp/ipykernel_8882/4164706048.py:1: ParserWarning: Length of header or names does not match length of data. This leads to a loss of data with index_col=False.\n",
      "  datas=pd.read_csv(\"dataset.csv\", sep=\"[,;:]\", index_col=False)\n"
     ]
    }
   ],
   "source": [
    "datas=pd.read_csv(\"dataset.csv\", sep=\"[,;:]\", index_col=False)"
   ]
  },
  {
   "cell_type": "code",
   "execution_count": 22,
   "id": "a6d7f536",
   "metadata": {},
   "outputs": [
    {
     "data": {
      "text/plain": [
       "(922, 10)"
      ]
     },
     "execution_count": 22,
     "metadata": {},
     "output_type": "execute_result"
    }
   ],
   "source": [
    "datas.shape"
   ]
  },
  {
   "cell_type": "code",
   "execution_count": 23,
   "id": "c12bcb3b",
   "metadata": {},
   "outputs": [
    {
     "data": {
      "text/html": [
       "<div>\n",
       "<style scoped>\n",
       "    .dataframe tbody tr th:only-of-type {\n",
       "        vertical-align: middle;\n",
       "    }\n",
       "\n",
       "    .dataframe tbody tr th {\n",
       "        vertical-align: top;\n",
       "    }\n",
       "\n",
       "    .dataframe thead th {\n",
       "        text-align: right;\n",
       "    }\n",
       "</style>\n",
       "<table border=\"1\" class=\"dataframe\">\n",
       "  <thead>\n",
       "    <tr style=\"text-align: right;\">\n",
       "      <th></th>\n",
       "      <th>track_id</th>\n",
       "      <th>type</th>\n",
       "      <th>traveled_d</th>\n",
       "      <th>avg_speed</th>\n",
       "      <th>lat</th>\n",
       "      <th>lon</th>\n",
       "      <th>speed</th>\n",
       "      <th>lon_acc</th>\n",
       "      <th>lat_acc</th>\n",
       "      <th>time</th>\n",
       "    </tr>\n",
       "  </thead>\n",
       "  <tbody>\n",
       "    <tr>\n",
       "      <th>0</th>\n",
       "      <td>1</td>\n",
       "      <td>Car</td>\n",
       "      <td>48.85</td>\n",
       "      <td>9.770344</td>\n",
       "      <td>37.977391</td>\n",
       "      <td>23.737688</td>\n",
       "      <td>4.9178</td>\n",
       "      <td>0.0518</td>\n",
       "      <td>-0.0299</td>\n",
       "      <td>0.0</td>\n",
       "    </tr>\n",
       "    <tr>\n",
       "      <th>1</th>\n",
       "      <td>2</td>\n",
       "      <td>Motorcycle</td>\n",
       "      <td>98.09</td>\n",
       "      <td>19.839417</td>\n",
       "      <td>37.977642</td>\n",
       "      <td>23.737400</td>\n",
       "      <td>16.9759</td>\n",
       "      <td>-0.0361</td>\n",
       "      <td>-0.0228</td>\n",
       "      <td>0.0</td>\n",
       "    </tr>\n",
       "    <tr>\n",
       "      <th>2</th>\n",
       "      <td>3</td>\n",
       "      <td>Motorcycle</td>\n",
       "      <td>63.80</td>\n",
       "      <td>18.228752</td>\n",
       "      <td>37.977997</td>\n",
       "      <td>23.737264</td>\n",
       "      <td>20.1906</td>\n",
       "      <td>-0.0795</td>\n",
       "      <td>-0.3395</td>\n",
       "      <td>0.0</td>\n",
       "    </tr>\n",
       "    <tr>\n",
       "      <th>3</th>\n",
       "      <td>4</td>\n",
       "      <td>Motorcycle</td>\n",
       "      <td>145.72</td>\n",
       "      <td>26.229014</td>\n",
       "      <td>37.978135</td>\n",
       "      <td>23.737072</td>\n",
       "      <td>2.7555</td>\n",
       "      <td>-0.0302</td>\n",
       "      <td>0.0948</td>\n",
       "      <td>0.0</td>\n",
       "    </tr>\n",
       "    <tr>\n",
       "      <th>4</th>\n",
       "      <td>5</td>\n",
       "      <td>Motorcycle</td>\n",
       "      <td>138.01</td>\n",
       "      <td>24.841425</td>\n",
       "      <td>37.978134</td>\n",
       "      <td>23.737103</td>\n",
       "      <td>0.0000</td>\n",
       "      <td>0.0000</td>\n",
       "      <td>0.0000</td>\n",
       "      <td>0.0</td>\n",
       "    </tr>\n",
       "  </tbody>\n",
       "</table>\n",
       "</div>"
      ],
      "text/plain": [
       "   track_id         type   traveled_d   avg_speed        lat        lon  \\\n",
       "0         1          Car        48.85    9.770344  37.977391  23.737688   \n",
       "1         2   Motorcycle        98.09   19.839417  37.977642  23.737400   \n",
       "2         3   Motorcycle        63.80   18.228752  37.977997  23.737264   \n",
       "3         4   Motorcycle       145.72   26.229014  37.978135  23.737072   \n",
       "4         5   Motorcycle       138.01   24.841425  37.978134  23.737103   \n",
       "\n",
       "     speed   lon_acc   lat_acc   time  \n",
       "0   4.9178    0.0518   -0.0299    0.0  \n",
       "1  16.9759   -0.0361   -0.0228    0.0  \n",
       "2  20.1906   -0.0795   -0.3395    0.0  \n",
       "3   2.7555   -0.0302    0.0948    0.0  \n",
       "4   0.0000    0.0000    0.0000    0.0  "
      ]
     },
     "execution_count": 23,
     "metadata": {},
     "output_type": "execute_result"
    }
   ],
   "source": [
    "datas.head()"
   ]
  },
  {
   "cell_type": "code",
   "execution_count": 24,
   "id": "75050b51",
   "metadata": {},
   "outputs": [
    {
     "name": "stdout",
     "output_type": "stream",
     "text": [
      "<class 'pandas.core.frame.DataFrame'>\n",
      "RangeIndex: 922 entries, 0 to 921\n",
      "Data columns (total 10 columns):\n",
      " #   Column       Non-Null Count  Dtype  \n",
      "---  ------       --------------  -----  \n",
      " 0   track_id     922 non-null    int64  \n",
      " 1    type        922 non-null    object \n",
      " 2    traveled_d  922 non-null    float64\n",
      " 3    avg_speed   922 non-null    float64\n",
      " 4    lat         922 non-null    float64\n",
      " 5    lon         922 non-null    float64\n",
      " 6    speed       922 non-null    float64\n",
      " 7    lon_acc     922 non-null    float64\n",
      " 8    lat_acc     922 non-null    float64\n",
      " 9    time        922 non-null    float64\n",
      "dtypes: float64(8), int64(1), object(1)\n",
      "memory usage: 72.2+ KB\n"
     ]
    }
   ],
   "source": [
    "datas.info()"
   ]
  },
  {
   "cell_type": "code",
   "execution_count": 37,
   "id": "4ad4186a",
   "metadata": {},
   "outputs": [
    {
     "data": {
      "image/png": "[encoded data removed]",
      "text/plain": [
       "<Figure size 864x504 with 1 Axes>"
      ]
     },
     "metadata": {
      "needs_background": "light"
     },
     "output_type": "display_data"
    }
   ],
   "source": [
    "plt.figure(figsize=(12, 7))\n",
    "sns.countplot(data=datas, x=\" type\")\n",
    "plt.title(f'type')\n",
    "plt.show()"
   ]
  },
  {
   "cell_type": "code",
   "execution_count": 40,
   "id": "83538c10",
   "metadata": {},
   "outputs": [
    {
     "data": {
      "image/png": "[encoded data removed]",
      "text/plain": [
       "<Figure size 360x360 with 1 Axes>"
      ]
     },
     "metadata": {
      "needs_background": "light"
     },
     "output_type": "display_data"
    }
   ],
   "source": [
    "sns.displot(data=datas, x=\" traveled_d\")\n",
    "plt.title(f'Traveled distance')\n",
    "plt.show()"
   ]
  },
  {
   "cell_type": "code",
   "execution_count": 43,
   "id": "72bbf88f",
   "metadata": {},
   "outputs": [
    {
     "data": {
      "image/png": "[encoded data removed]",
      "text/plain": [
       "<Figure size 360x360 with 1 Axes>"
      ]
     },
     "metadata": {
      "needs_background": "light"
     },
     "output_type": "display_data"
    }
   ],
   "source": [
    "sns.displot(data=datas, x=\" avg_speed\")\n",
    "plt.title(f'speed')\n",
    "plt.show()"
   ]
  },
  {
   "cell_type": "code",
   "execution_count": 44,
   "id": "c61f7a3f",
   "metadata": {},
   "outputs": [
    {
     "data": {
      "text/plain": [
       "Index(['track_id', ' type', ' traveled_d', ' avg_speed', ' lat', ' lon',\n",
       "       ' speed', ' lon_acc', ' lat_acc', ' time'],\n",
       "      dtype='object')"
      ]
     },
     "execution_count": 44,
     "metadata": {},
     "output_type": "execute_result"
    }
   ],
   "source": [
    "datas.columns"
   ]
  },
  {
   "cell_type": "code",
   "execution_count": null,
   "id": "41ea7a4d",
   "metadata": {},
   "outputs": [],
   "source": []
  }
 ],
 "metadata": {
  "kernelspec": {
   "display_name": "Python 3 (ipykernel)",
   "language": "python",
   "name": "python3"
  },
  "language_info": {
   "codemirror_mode": {
    "name": "ipython",
    "version": 3
   },
   "file_extension": ".py",
   "mimetype": "text/x-python",
   "name": "python",
   "nbconvert_exporter": "python",
   "pygments_lexer": "ipython3",
   "version": "3.9.12"
  }
 },
 "nbformat": 4,
 "nbformat_minor": 5
}
